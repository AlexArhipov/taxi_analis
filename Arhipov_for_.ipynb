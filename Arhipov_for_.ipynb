{
  "nbformat": 4,
  "nbformat_minor": 0,
  "metadata": {
    "colab": {
      "name": "Arhipov_for_.ipynb",
      "provenance": [],
      "collapsed_sections": []
    },
    "kernelspec": {
      "name": "python3",
      "display_name": "Python 3"
    },
    "language_info": {
      "name": "python"
    }
  },
  "cells": [
    {
      "cell_type": "code",
      "metadata": {
        "id": "oHpHEobzrgw8"
      },
      "source": [
        "import pandas as pd\n",
        "import math\n",
        "import matplotlib.pyplot as plt\n",
        "import seaborn as sns\n",
        "import statsmodels.api as sm\n",
        "import scipy\n",
        "import sklearn.linear_model as lm"
      ],
      "execution_count": null,
      "outputs": []
    },
    {
      "cell_type": "code",
      "metadata": {
        "colab": {
          "base_uri": "https://localhost:8080/",
          "height": 473
        },
        "id": "NKpyVtwdvXTg",
        "outputId": "04d5bf2c-5d81-4ce3-e8ae-598f09e0f286"
      },
      "source": [
        "df = pd.read_csv('/content/green_tripdata_2020-01.csv')\n",
        "df"
      ],
      "execution_count": null,
      "outputs": [
        {
          "output_type": "stream",
          "text": [
            "/usr/local/lib/python3.7/dist-packages/IPython/core/interactiveshell.py:2718: DtypeWarning: Columns (3) have mixed types.Specify dtype option on import or set low_memory=False.\n",
            "  interactivity=interactivity, compiler=compiler, result=result)\n"
          ],
          "name": "stderr"
        },
        {
          "output_type": "execute_result",
          "data": {
            "text/html": [
              "<div>\n",
              "<style scoped>\n",
              "    .dataframe tbody tr th:only-of-type {\n",
              "        vertical-align: middle;\n",
              "    }\n",
              "\n",
              "    .dataframe tbody tr th {\n",
              "        vertical-align: top;\n",
              "    }\n",
              "\n",
              "    .dataframe thead th {\n",
              "        text-align: right;\n",
              "    }\n",
              "</style>\n",
              "<table border=\"1\" class=\"dataframe\">\n",
              "  <thead>\n",
              "    <tr style=\"text-align: right;\">\n",
              "      <th></th>\n",
              "      <th>VendorID</th>\n",
              "      <th>lpep_pickup_datetime</th>\n",
              "      <th>lpep_dropoff_datetime</th>\n",
              "      <th>store_and_fwd_flag</th>\n",
              "      <th>RatecodeID</th>\n",
              "      <th>PULocationID</th>\n",
              "      <th>DOLocationID</th>\n",
              "      <th>passenger_count</th>\n",
              "      <th>trip_distance</th>\n",
              "      <th>fare_amount</th>\n",
              "      <th>extra</th>\n",
              "      <th>mta_tax</th>\n",
              "      <th>tip_amount</th>\n",
              "      <th>tolls_amount</th>\n",
              "      <th>ehail_fee</th>\n",
              "      <th>improvement_surcharge</th>\n",
              "      <th>total_amount</th>\n",
              "      <th>payment_type</th>\n",
              "      <th>trip_type</th>\n",
              "      <th>congestion_surcharge</th>\n",
              "    </tr>\n",
              "  </thead>\n",
              "  <tbody>\n",
              "    <tr>\n",
              "      <th>0</th>\n",
              "      <td>2.0</td>\n",
              "      <td>2019-12-18 15:52:30</td>\n",
              "      <td>2019-12-18 15:54:39</td>\n",
              "      <td>N</td>\n",
              "      <td>1.0</td>\n",
              "      <td>264</td>\n",
              "      <td>264</td>\n",
              "      <td>5.0</td>\n",
              "      <td>0.00</td>\n",
              "      <td>3.50</td>\n",
              "      <td>0.50</td>\n",
              "      <td>0.5</td>\n",
              "      <td>0.01</td>\n",
              "      <td>0.0</td>\n",
              "      <td>NaN</td>\n",
              "      <td>0.3</td>\n",
              "      <td>4.81</td>\n",
              "      <td>1.0</td>\n",
              "      <td>1.0</td>\n",
              "      <td>0.00</td>\n",
              "    </tr>\n",
              "    <tr>\n",
              "      <th>1</th>\n",
              "      <td>2.0</td>\n",
              "      <td>2020-01-01 00:45:58</td>\n",
              "      <td>2020-01-01 00:56:39</td>\n",
              "      <td>N</td>\n",
              "      <td>5.0</td>\n",
              "      <td>66</td>\n",
              "      <td>65</td>\n",
              "      <td>2.0</td>\n",
              "      <td>1.28</td>\n",
              "      <td>20.00</td>\n",
              "      <td>0.00</td>\n",
              "      <td>0.0</td>\n",
              "      <td>4.06</td>\n",
              "      <td>0.0</td>\n",
              "      <td>NaN</td>\n",
              "      <td>0.3</td>\n",
              "      <td>24.36</td>\n",
              "      <td>1.0</td>\n",
              "      <td>2.0</td>\n",
              "      <td>0.00</td>\n",
              "    </tr>\n",
              "    <tr>\n",
              "      <th>2</th>\n",
              "      <td>2.0</td>\n",
              "      <td>2020-01-01 00:41:38</td>\n",
              "      <td>2020-01-01 00:52:49</td>\n",
              "      <td>N</td>\n",
              "      <td>1.0</td>\n",
              "      <td>181</td>\n",
              "      <td>228</td>\n",
              "      <td>1.0</td>\n",
              "      <td>2.47</td>\n",
              "      <td>10.50</td>\n",
              "      <td>0.50</td>\n",
              "      <td>0.5</td>\n",
              "      <td>3.54</td>\n",
              "      <td>0.0</td>\n",
              "      <td>NaN</td>\n",
              "      <td>0.3</td>\n",
              "      <td>15.34</td>\n",
              "      <td>1.0</td>\n",
              "      <td>1.0</td>\n",
              "      <td>0.00</td>\n",
              "    </tr>\n",
              "    <tr>\n",
              "      <th>3</th>\n",
              "      <td>1.0</td>\n",
              "      <td>2020-01-01 00:52:46</td>\n",
              "      <td>2020-01-01 01:14:21</td>\n",
              "      <td>N</td>\n",
              "      <td>1.0</td>\n",
              "      <td>129</td>\n",
              "      <td>263</td>\n",
              "      <td>2.0</td>\n",
              "      <td>6.30</td>\n",
              "      <td>21.00</td>\n",
              "      <td>3.25</td>\n",
              "      <td>0.5</td>\n",
              "      <td>0.00</td>\n",
              "      <td>0.0</td>\n",
              "      <td>NaN</td>\n",
              "      <td>0.3</td>\n",
              "      <td>25.05</td>\n",
              "      <td>2.0</td>\n",
              "      <td>1.0</td>\n",
              "      <td>2.75</td>\n",
              "    </tr>\n",
              "    <tr>\n",
              "      <th>4</th>\n",
              "      <td>1.0</td>\n",
              "      <td>2020-01-01 00:19:57</td>\n",
              "      <td>2020-01-01 00:30:56</td>\n",
              "      <td>N</td>\n",
              "      <td>1.0</td>\n",
              "      <td>210</td>\n",
              "      <td>150</td>\n",
              "      <td>1.0</td>\n",
              "      <td>2.30</td>\n",
              "      <td>10.00</td>\n",
              "      <td>0.50</td>\n",
              "      <td>0.5</td>\n",
              "      <td>0.00</td>\n",
              "      <td>0.0</td>\n",
              "      <td>NaN</td>\n",
              "      <td>0.3</td>\n",
              "      <td>11.30</td>\n",
              "      <td>1.0</td>\n",
              "      <td>1.0</td>\n",
              "      <td>0.00</td>\n",
              "    </tr>\n",
              "    <tr>\n",
              "      <th>...</th>\n",
              "      <td>...</td>\n",
              "      <td>...</td>\n",
              "      <td>...</td>\n",
              "      <td>...</td>\n",
              "      <td>...</td>\n",
              "      <td>...</td>\n",
              "      <td>...</td>\n",
              "      <td>...</td>\n",
              "      <td>...</td>\n",
              "      <td>...</td>\n",
              "      <td>...</td>\n",
              "      <td>...</td>\n",
              "      <td>...</td>\n",
              "      <td>...</td>\n",
              "      <td>...</td>\n",
              "      <td>...</td>\n",
              "      <td>...</td>\n",
              "      <td>...</td>\n",
              "      <td>...</td>\n",
              "      <td>...</td>\n",
              "    </tr>\n",
              "    <tr>\n",
              "      <th>447765</th>\n",
              "      <td>NaN</td>\n",
              "      <td>2020-01-31 23:29:00</td>\n",
              "      <td>2020-01-31 23:47:00</td>\n",
              "      <td>NaN</td>\n",
              "      <td>NaN</td>\n",
              "      <td>167</td>\n",
              "      <td>32</td>\n",
              "      <td>NaN</td>\n",
              "      <td>4.58</td>\n",
              "      <td>23.21</td>\n",
              "      <td>2.75</td>\n",
              "      <td>0.0</td>\n",
              "      <td>0.00</td>\n",
              "      <td>0.0</td>\n",
              "      <td>NaN</td>\n",
              "      <td>0.3</td>\n",
              "      <td>26.26</td>\n",
              "      <td>NaN</td>\n",
              "      <td>NaN</td>\n",
              "      <td>NaN</td>\n",
              "    </tr>\n",
              "    <tr>\n",
              "      <th>447766</th>\n",
              "      <td>NaN</td>\n",
              "      <td>2020-01-31 23:57:00</td>\n",
              "      <td>2020-02-01 00:23:00</td>\n",
              "      <td>NaN</td>\n",
              "      <td>NaN</td>\n",
              "      <td>81</td>\n",
              "      <td>69</td>\n",
              "      <td>NaN</td>\n",
              "      <td>6.55</td>\n",
              "      <td>27.27</td>\n",
              "      <td>2.75</td>\n",
              "      <td>0.0</td>\n",
              "      <td>0.00</td>\n",
              "      <td>0.0</td>\n",
              "      <td>NaN</td>\n",
              "      <td>0.3</td>\n",
              "      <td>30.32</td>\n",
              "      <td>NaN</td>\n",
              "      <td>NaN</td>\n",
              "      <td>NaN</td>\n",
              "    </tr>\n",
              "    <tr>\n",
              "      <th>447767</th>\n",
              "      <td>NaN</td>\n",
              "      <td>2020-01-31 23:57:00</td>\n",
              "      <td>2020-02-01 00:10:00</td>\n",
              "      <td>NaN</td>\n",
              "      <td>NaN</td>\n",
              "      <td>244</td>\n",
              "      <td>241</td>\n",
              "      <td>NaN</td>\n",
              "      <td>3.34</td>\n",
              "      <td>25.95</td>\n",
              "      <td>2.75</td>\n",
              "      <td>0.0</td>\n",
              "      <td>0.00</td>\n",
              "      <td>0.0</td>\n",
              "      <td>NaN</td>\n",
              "      <td>0.3</td>\n",
              "      <td>29.00</td>\n",
              "      <td>NaN</td>\n",
              "      <td>NaN</td>\n",
              "      <td>NaN</td>\n",
              "    </tr>\n",
              "    <tr>\n",
              "      <th>447768</th>\n",
              "      <td>NaN</td>\n",
              "      <td>2020-01-31 23:27:00</td>\n",
              "      <td>2020-02-01 00:04:00</td>\n",
              "      <td>NaN</td>\n",
              "      <td>NaN</td>\n",
              "      <td>68</td>\n",
              "      <td>17</td>\n",
              "      <td>NaN</td>\n",
              "      <td>8.92</td>\n",
              "      <td>30.39</td>\n",
              "      <td>2.75</td>\n",
              "      <td>0.0</td>\n",
              "      <td>0.00</td>\n",
              "      <td>0.0</td>\n",
              "      <td>NaN</td>\n",
              "      <td>0.3</td>\n",
              "      <td>33.44</td>\n",
              "      <td>NaN</td>\n",
              "      <td>NaN</td>\n",
              "      <td>NaN</td>\n",
              "    </tr>\n",
              "    <tr>\n",
              "      <th>447769</th>\n",
              "      <td>NaN</td>\n",
              "      <td>2020-01-31 23:36:00</td>\n",
              "      <td>2020-02-01 00:01:00</td>\n",
              "      <td>NaN</td>\n",
              "      <td>NaN</td>\n",
              "      <td>22</td>\n",
              "      <td>124</td>\n",
              "      <td>NaN</td>\n",
              "      <td>13.51</td>\n",
              "      <td>42.20</td>\n",
              "      <td>2.75</td>\n",
              "      <td>0.0</td>\n",
              "      <td>0.00</td>\n",
              "      <td>0.0</td>\n",
              "      <td>NaN</td>\n",
              "      <td>0.3</td>\n",
              "      <td>45.25</td>\n",
              "      <td>NaN</td>\n",
              "      <td>NaN</td>\n",
              "      <td>NaN</td>\n",
              "    </tr>\n",
              "  </tbody>\n",
              "</table>\n",
              "<p>447770 rows × 20 columns</p>\n",
              "</div>"
            ],
            "text/plain": [
              "        VendorID lpep_pickup_datetime  ... trip_type congestion_surcharge\n",
              "0            2.0  2019-12-18 15:52:30  ...       1.0                 0.00\n",
              "1            2.0  2020-01-01 00:45:58  ...       2.0                 0.00\n",
              "2            2.0  2020-01-01 00:41:38  ...       1.0                 0.00\n",
              "3            1.0  2020-01-01 00:52:46  ...       1.0                 2.75\n",
              "4            1.0  2020-01-01 00:19:57  ...       1.0                 0.00\n",
              "...          ...                  ...  ...       ...                  ...\n",
              "447765       NaN  2020-01-31 23:29:00  ...       NaN                  NaN\n",
              "447766       NaN  2020-01-31 23:57:00  ...       NaN                  NaN\n",
              "447767       NaN  2020-01-31 23:57:00  ...       NaN                  NaN\n",
              "447768       NaN  2020-01-31 23:27:00  ...       NaN                  NaN\n",
              "447769       NaN  2020-01-31 23:36:00  ...       NaN                  NaN\n",
              "\n",
              "[447770 rows x 20 columns]"
            ]
          },
          "metadata": {
            "tags": []
          },
          "execution_count": 69
        }
      ]
    },
    {
      "cell_type": "code",
      "metadata": {
        "colab": {
          "base_uri": "https://localhost:8080/",
          "height": 297
        },
        "id": "KcNMAnKLJB1c",
        "outputId": "c5256630-27d2-4246-98df-5e84fdd12a8f"
      },
      "source": [
        "df.describe() # рассмотрим общую картину данных"
      ],
      "execution_count": null,
      "outputs": [
        {
          "output_type": "execute_result",
          "data": {
            "text/html": [
              "<div>\n",
              "<style scoped>\n",
              "    .dataframe tbody tr th:only-of-type {\n",
              "        vertical-align: middle;\n",
              "    }\n",
              "\n",
              "    .dataframe tbody tr th {\n",
              "        vertical-align: top;\n",
              "    }\n",
              "\n",
              "    .dataframe thead th {\n",
              "        text-align: right;\n",
              "    }\n",
              "</style>\n",
              "<table border=\"1\" class=\"dataframe\">\n",
              "  <thead>\n",
              "    <tr style=\"text-align: right;\">\n",
              "      <th></th>\n",
              "      <th>VendorID</th>\n",
              "      <th>RatecodeID</th>\n",
              "      <th>PULocationID</th>\n",
              "      <th>DOLocationID</th>\n",
              "      <th>passenger_count</th>\n",
              "      <th>trip_distance</th>\n",
              "      <th>fare_amount</th>\n",
              "      <th>extra</th>\n",
              "      <th>mta_tax</th>\n",
              "      <th>tip_amount</th>\n",
              "      <th>tolls_amount</th>\n",
              "      <th>ehail_fee</th>\n",
              "      <th>improvement_surcharge</th>\n",
              "      <th>total_amount</th>\n",
              "      <th>payment_type</th>\n",
              "      <th>trip_type</th>\n",
              "      <th>congestion_surcharge</th>\n",
              "    </tr>\n",
              "  </thead>\n",
              "  <tbody>\n",
              "    <tr>\n",
              "      <th>count</th>\n",
              "      <td>331719.000000</td>\n",
              "      <td>331719.000000</td>\n",
              "      <td>447770.000000</td>\n",
              "      <td>447770.000000</td>\n",
              "      <td>331719.000000</td>\n",
              "      <td>447770.000000</td>\n",
              "      <td>447770.000000</td>\n",
              "      <td>447770.000000</td>\n",
              "      <td>447770.000000</td>\n",
              "      <td>447770.000000</td>\n",
              "      <td>447770.000000</td>\n",
              "      <td>0.0</td>\n",
              "      <td>447770.000000</td>\n",
              "      <td>447770.000000</td>\n",
              "      <td>331719.000000</td>\n",
              "      <td>331718.000000</td>\n",
              "      <td>331719.000000</td>\n",
              "    </tr>\n",
              "    <tr>\n",
              "      <th>mean</th>\n",
              "      <td>1.830317</td>\n",
              "      <td>1.101661</td>\n",
              "      <td>108.121236</td>\n",
              "      <td>128.864473</td>\n",
              "      <td>1.304110</td>\n",
              "      <td>3.599392</td>\n",
              "      <td>15.839504</td>\n",
              "      <td>0.838858</td>\n",
              "      <td>0.388785</td>\n",
              "      <td>0.899788</td>\n",
              "      <td>0.327172</td>\n",
              "      <td>NaN</td>\n",
              "      <td>0.287046</td>\n",
              "      <td>18.898600</td>\n",
              "      <td>1.452841</td>\n",
              "      <td>1.023032</td>\n",
              "      <td>0.472377</td>\n",
              "    </tr>\n",
              "    <tr>\n",
              "      <th>std</th>\n",
              "      <td>0.375354</td>\n",
              "      <td>0.664471</td>\n",
              "      <td>71.165956</td>\n",
              "      <td>76.446125</td>\n",
              "      <td>0.953394</td>\n",
              "      <td>4.257709</td>\n",
              "      <td>12.691982</td>\n",
              "      <td>1.149168</td>\n",
              "      <td>0.210808</td>\n",
              "      <td>2.319882</td>\n",
              "      <td>1.458425</td>\n",
              "      <td>NaN</td>\n",
              "      <td>0.064305</td>\n",
              "      <td>14.101771</td>\n",
              "      <td>0.518710</td>\n",
              "      <td>0.150004</td>\n",
              "      <td>1.037282</td>\n",
              "    </tr>\n",
              "    <tr>\n",
              "      <th>min</th>\n",
              "      <td>1.000000</td>\n",
              "      <td>1.000000</td>\n",
              "      <td>1.000000</td>\n",
              "      <td>1.000000</td>\n",
              "      <td>0.000000</td>\n",
              "      <td>-33.690000</td>\n",
              "      <td>-210.000000</td>\n",
              "      <td>-4.500000</td>\n",
              "      <td>-0.500000</td>\n",
              "      <td>-2.800000</td>\n",
              "      <td>-6.120000</td>\n",
              "      <td>NaN</td>\n",
              "      <td>-0.300000</td>\n",
              "      <td>-210.300000</td>\n",
              "      <td>1.000000</td>\n",
              "      <td>1.000000</td>\n",
              "      <td>-2.750000</td>\n",
              "    </tr>\n",
              "    <tr>\n",
              "      <th>25%</th>\n",
              "      <td>2.000000</td>\n",
              "      <td>1.000000</td>\n",
              "      <td>52.000000</td>\n",
              "      <td>63.000000</td>\n",
              "      <td>1.000000</td>\n",
              "      <td>1.080000</td>\n",
              "      <td>7.000000</td>\n",
              "      <td>0.000000</td>\n",
              "      <td>0.500000</td>\n",
              "      <td>0.000000</td>\n",
              "      <td>0.000000</td>\n",
              "      <td>NaN</td>\n",
              "      <td>0.300000</td>\n",
              "      <td>9.120000</td>\n",
              "      <td>1.000000</td>\n",
              "      <td>1.000000</td>\n",
              "      <td>0.000000</td>\n",
              "    </tr>\n",
              "    <tr>\n",
              "      <th>50%</th>\n",
              "      <td>2.000000</td>\n",
              "      <td>1.000000</td>\n",
              "      <td>82.000000</td>\n",
              "      <td>129.000000</td>\n",
              "      <td>1.000000</td>\n",
              "      <td>2.070000</td>\n",
              "      <td>11.500000</td>\n",
              "      <td>0.500000</td>\n",
              "      <td>0.500000</td>\n",
              "      <td>0.000000</td>\n",
              "      <td>0.000000</td>\n",
              "      <td>NaN</td>\n",
              "      <td>0.300000</td>\n",
              "      <td>14.400000</td>\n",
              "      <td>1.000000</td>\n",
              "      <td>1.000000</td>\n",
              "      <td>0.000000</td>\n",
              "    </tr>\n",
              "    <tr>\n",
              "      <th>75%</th>\n",
              "      <td>2.000000</td>\n",
              "      <td>1.000000</td>\n",
              "      <td>166.000000</td>\n",
              "      <td>194.000000</td>\n",
              "      <td>1.000000</td>\n",
              "      <td>4.410000</td>\n",
              "      <td>21.000000</td>\n",
              "      <td>1.000000</td>\n",
              "      <td>0.500000</td>\n",
              "      <td>1.460000</td>\n",
              "      <td>0.000000</td>\n",
              "      <td>NaN</td>\n",
              "      <td>0.300000</td>\n",
              "      <td>24.550000</td>\n",
              "      <td>2.000000</td>\n",
              "      <td>1.000000</td>\n",
              "      <td>0.000000</td>\n",
              "    </tr>\n",
              "    <tr>\n",
              "      <th>max</th>\n",
              "      <td>2.000000</td>\n",
              "      <td>99.000000</td>\n",
              "      <td>265.000000</td>\n",
              "      <td>265.000000</td>\n",
              "      <td>9.000000</td>\n",
              "      <td>130.680000</td>\n",
              "      <td>753.000000</td>\n",
              "      <td>8.250000</td>\n",
              "      <td>3.550000</td>\n",
              "      <td>450.000000</td>\n",
              "      <td>96.120000</td>\n",
              "      <td>NaN</td>\n",
              "      <td>0.300000</td>\n",
              "      <td>753.800000</td>\n",
              "      <td>5.000000</td>\n",
              "      <td>2.000000</td>\n",
              "      <td>2.750000</td>\n",
              "    </tr>\n",
              "  </tbody>\n",
              "</table>\n",
              "</div>"
            ],
            "text/plain": [
              "            VendorID     RatecodeID  ...      trip_type  congestion_surcharge\n",
              "count  331719.000000  331719.000000  ...  331718.000000         331719.000000\n",
              "mean        1.830317       1.101661  ...       1.023032              0.472377\n",
              "std         0.375354       0.664471  ...       0.150004              1.037282\n",
              "min         1.000000       1.000000  ...       1.000000             -2.750000\n",
              "25%         2.000000       1.000000  ...       1.000000              0.000000\n",
              "50%         2.000000       1.000000  ...       1.000000              0.000000\n",
              "75%         2.000000       1.000000  ...       1.000000              0.000000\n",
              "max         2.000000      99.000000  ...       2.000000              2.750000\n",
              "\n",
              "[8 rows x 17 columns]"
            ]
          },
          "metadata": {
            "tags": []
          },
          "execution_count": 70
        }
      ]
    },
    {
      "cell_type": "code",
      "metadata": {
        "id": "saKPiR4H1szw",
        "colab": {
          "base_uri": "https://localhost:8080/"
        },
        "outputId": "b554a1b2-4414-4926-ea3f-8e3f9777f57f"
      },
      "source": [
        "df.isnull().sum() # данные достаточно чистые, если рассматривать только интересующие столбцы"
      ],
      "execution_count": null,
      "outputs": [
        {
          "output_type": "execute_result",
          "data": {
            "text/plain": [
              "VendorID                 116051\n",
              "lpep_pickup_datetime          0\n",
              "lpep_dropoff_datetime         0\n",
              "store_and_fwd_flag       116051\n",
              "RatecodeID               116051\n",
              "PULocationID                  0\n",
              "DOLocationID                  0\n",
              "passenger_count          116051\n",
              "trip_distance                 0\n",
              "fare_amount                   0\n",
              "extra                         0\n",
              "mta_tax                       0\n",
              "tip_amount                    0\n",
              "tolls_amount                  0\n",
              "ehail_fee                447770\n",
              "improvement_surcharge         0\n",
              "total_amount                  0\n",
              "payment_type             116051\n",
              "trip_type                116052\n",
              "congestion_surcharge     116051\n",
              "dtype: int64"
            ]
          },
          "metadata": {
            "tags": []
          },
          "execution_count": 71
        }
      ]
    },
    {
      "cell_type": "markdown",
      "metadata": {
        "id": "6qVKBs-tl-iE"
      },
      "source": [
        "## Поиск аномальных поездок"
      ]
    },
    {
      "cell_type": "code",
      "metadata": {
        "id": "_zAYMd9w56sB",
        "colab": {
          "base_uri": "https://localhost:8080/"
        },
        "outputId": "3c20d47a-d0ee-4dc9-ed6e-fa510198c398"
      },
      "source": [
        "df['total_amount'].min() # часть поездок имеет орицательную итоговую стоимость"
      ],
      "execution_count": null,
      "outputs": [
        {
          "output_type": "execute_result",
          "data": {
            "text/plain": [
              "-210.3"
            ]
          },
          "metadata": {
            "tags": []
          },
          "execution_count": 72
        }
      ]
    },
    {
      "cell_type": "code",
      "metadata": {
        "colab": {
          "base_uri": "https://localhost:8080/"
        },
        "id": "jX8HWrG7lM8X",
        "outputId": "873e3d88-bbe2-426b-e0e4-b71c80fc3c62"
      },
      "source": [
        "df['total_amount'].max() # а также  есть существенные выбросы в большую сторону - стоимость поездки на такси врядли будет составлять 753.8 $"
      ],
      "execution_count": null,
      "outputs": [
        {
          "output_type": "execute_result",
          "data": {
            "text/plain": [
              "753.8"
            ]
          },
          "metadata": {
            "tags": []
          },
          "execution_count": 55
        }
      ]
    },
    {
      "cell_type": "code",
      "metadata": {
        "colab": {
          "base_uri": "https://localhost:8080/",
          "height": 351
        },
        "id": "_qVyairo9DpW",
        "outputId": "26b6778f-64cf-46aa-8bcf-a11ebf9643ac"
      },
      "source": [
        "plt.figure(figsize=(30,4)) # на графике по итоговой цене показаны аномалии по выборосам\n",
        "sns.boxplot(df['total_amount'])"
      ],
      "execution_count": null,
      "outputs": [
        {
          "output_type": "stream",
          "text": [
            "/usr/local/lib/python3.7/dist-packages/seaborn/_decorators.py:43: FutureWarning: Pass the following variable as a keyword arg: x. From version 0.12, the only valid positional argument will be `data`, and passing other arguments without an explicit keyword will result in an error or misinterpretation.\n",
            "  FutureWarning\n"
          ],
          "name": "stderr"
        },
        {
          "output_type": "execute_result",
          "data": {
            "text/plain": [
              "<matplotlib.axes._subplots.AxesSubplot at 0x7fb3fda27390>"
            ]
          },
          "metadata": {
            "tags": []
          },
          "execution_count": 73
        },
        {
          "output_type": "display_data",
          "data": {
            "image/png": "[encoded data removed]",
            "text/plain": [
              "<Figure size 2160x288 with 1 Axes>"
            ]
          },
          "metadata": {
            "tags": [],
            "needs_background": "light"
          }
        }
      ]
    },
    {
      "cell_type": "code",
      "metadata": {
        "colab": {
          "base_uri": "https://localhost:8080/",
          "height": 351
        },
        "id": "ejKC3z7uKCMw",
        "outputId": "4ce55d2b-7a65-4620-8a29-bbd17ff8ffc7"
      },
      "source": [
        "plt.figure(figsize=(30,4)) # также на графике по дистанции поездки отрицательные значения и несколько выборосов\n",
        "sns.boxplot(df['trip_distance'])"
      ],
      "execution_count": null,
      "outputs": [
        {
          "output_type": "stream",
          "text": [
            "/usr/local/lib/python3.7/dist-packages/seaborn/_decorators.py:43: FutureWarning: Pass the following variable as a keyword arg: x. From version 0.12, the only valid positional argument will be `data`, and passing other arguments without an explicit keyword will result in an error or misinterpretation.\n",
            "  FutureWarning\n"
          ],
          "name": "stderr"
        },
        {
          "output_type": "execute_result",
          "data": {
            "text/plain": [
              "<matplotlib.axes._subplots.AxesSubplot at 0x7fb3fda90fd0>"
            ]
          },
          "metadata": {
            "tags": []
          },
          "execution_count": 74
        },
        {
          "output_type": "display_data",
          "data": {
            "image/png": "[encoded data removed]",
            "text/plain": [
              "<Figure size 2160x288 with 1 Axes>"
            ]
          },
          "metadata": {
            "tags": [],
            "needs_background": "light"
          }
        }
      ]
    },
    {
      "cell_type": "markdown",
      "metadata": {
        "id": "7GYBiwObMNtp"
      },
      "source": [
        "## Проверка гипотезы о нормальном распределение по стоимости\n",
        "нулевая гипотеза - нормальное распределение"
      ]
    },
    {
      "cell_type": "code",
      "metadata": {
        "colab": {
          "base_uri": "https://localhost:8080/",
          "height": 282
        },
        "id": "OcNkWv5iN_GQ",
        "outputId": "30e81b24-2011-4db9-aa58-202e193472b0"
      },
      "source": [
        "plt.figure(figsize=(30,4))\n",
        "df['total_amount'].plot.hist(bins = 100, label = 'total_amount')"
      ],
      "execution_count": null,
      "outputs": [
        {
          "output_type": "execute_result",
          "data": {
            "text/plain": [
              "<matplotlib.axes._subplots.AxesSubplot at 0x7fb3fa2ca690>"
            ]
          },
          "metadata": {
            "tags": []
          },
          "execution_count": 75
        },
        {
          "output_type": "display_data",
          "data": {
            "image/png": "[encoded data removed]",
            "text/plain": [
              "<Figure size 2160x288 with 1 Axes>"
            ]
          },
          "metadata": {
            "tags": [],
            "needs_background": "light"
          }
        }
      ]
    },
    {
      "cell_type": "markdown",
      "metadata": {
        "id": "LgJYMPx-lxvx"
      },
      "source": [
        "График распределения: унимодальный, положительный. График похож на логонормальное распределение. Проверяем гипотезу."
      ]
    },
    {
      "cell_type": "code",
      "metadata": {
        "colab": {
          "base_uri": "https://localhost:8080/"
        },
        "id": "4uKayLl1NIpR",
        "outputId": "05c1afa0-df12-4d70-896a-3f20d37f0c2b"
      },
      "source": [
        "stat, p = scipy.stats.shapiro(df['total_amount'])\n",
        "p"
      ],
      "execution_count": null,
      "outputs": [
        {
          "output_type": "stream",
          "text": [
            "/usr/local/lib/python3.7/dist-packages/scipy/stats/morestats.py:1676: UserWarning: p-value may not be accurate for N > 5000.\n",
            "  warnings.warn(\"p-value may not be accurate for N > 5000.\")\n"
          ],
          "name": "stderr"
        },
        {
          "output_type": "execute_result",
          "data": {
            "text/plain": [
              "0.0"
            ]
          },
          "metadata": {
            "tags": []
          },
          "execution_count": 67
        }
      ]
    },
    {
      "cell_type": "markdown",
      "metadata": {
        "id": "jEc6yWO_m4VA"
      },
      "source": [
        "гипотеза подтвердилась. мы имеем дело с нормальным распределением."
      ]
    },
    {
      "cell_type": "markdown",
      "metadata": {
        "id": "USnDyUeUptfu"
      },
      "source": [
        "## Корреляция"
      ]
    },
    {
      "cell_type": "code",
      "metadata": {
        "colab": {
          "base_uri": "https://localhost:8080/",
          "height": 390
        },
        "id": "w2AIqUQmpSjd",
        "outputId": "e32745c3-136c-4103-abbe-d7a74149ddd7"
      },
      "source": [
        "table = df.iloc[:,[7,8,9,10,11,12,13,15,16,17,18]] # оставляем числовые переменные, которые могут влиять на стоимость\n",
        "table.corr()"
      ],
      "execution_count": null,
      "outputs": [
        {
          "output_type": "execute_result",
          "data": {
            "text/html": [
              "<div>\n",
              "<style scoped>\n",
              "    .dataframe tbody tr th:only-of-type {\n",
              "        vertical-align: middle;\n",
              "    }\n",
              "\n",
              "    .dataframe tbody tr th {\n",
              "        vertical-align: top;\n",
              "    }\n",
              "\n",
              "    .dataframe thead th {\n",
              "        text-align: right;\n",
              "    }\n",
              "</style>\n",
              "<table border=\"1\" class=\"dataframe\">\n",
              "  <thead>\n",
              "    <tr style=\"text-align: right;\">\n",
              "      <th></th>\n",
              "      <th>passenger_count</th>\n",
              "      <th>trip_distance</th>\n",
              "      <th>fare_amount</th>\n",
              "      <th>extra</th>\n",
              "      <th>mta_tax</th>\n",
              "      <th>tip_amount</th>\n",
              "      <th>tolls_amount</th>\n",
              "      <th>improvement_surcharge</th>\n",
              "      <th>total_amount</th>\n",
              "      <th>payment_type</th>\n",
              "      <th>trip_type</th>\n",
              "    </tr>\n",
              "  </thead>\n",
              "  <tbody>\n",
              "    <tr>\n",
              "      <th>passenger_count</th>\n",
              "      <td>1.000000</td>\n",
              "      <td>0.009466</td>\n",
              "      <td>-0.006714</td>\n",
              "      <td>-0.008160</td>\n",
              "      <td>0.003000</td>\n",
              "      <td>0.006240</td>\n",
              "      <td>-0.004514</td>\n",
              "      <td>0.002634</td>\n",
              "      <td>-0.003582</td>\n",
              "      <td>0.015269</td>\n",
              "      <td>-0.007092</td>\n",
              "    </tr>\n",
              "    <tr>\n",
              "      <th>trip_distance</th>\n",
              "      <td>0.009466</td>\n",
              "      <td>1.000000</td>\n",
              "      <td>0.835261</td>\n",
              "      <td>0.276670</td>\n",
              "      <td>-0.328465</td>\n",
              "      <td>0.056151</td>\n",
              "      <td>0.514307</td>\n",
              "      <td>-0.069587</td>\n",
              "      <td>0.834405</td>\n",
              "      <td>-0.085678</td>\n",
              "      <td>0.025506</td>\n",
              "    </tr>\n",
              "    <tr>\n",
              "      <th>fare_amount</th>\n",
              "      <td>-0.006714</td>\n",
              "      <td>0.835261</td>\n",
              "      <td>1.000000</td>\n",
              "      <td>0.388232</td>\n",
              "      <td>-0.407927</td>\n",
              "      <td>0.032393</td>\n",
              "      <td>0.439225</td>\n",
              "      <td>-0.078871</td>\n",
              "      <td>0.977012</td>\n",
              "      <td>-0.150939</td>\n",
              "      <td>0.103174</td>\n",
              "    </tr>\n",
              "    <tr>\n",
              "      <th>extra</th>\n",
              "      <td>-0.008160</td>\n",
              "      <td>0.276670</td>\n",
              "      <td>0.388232</td>\n",
              "      <td>1.000000</td>\n",
              "      <td>-0.449854</td>\n",
              "      <td>-0.110472</td>\n",
              "      <td>0.133736</td>\n",
              "      <td>-0.137127</td>\n",
              "      <td>0.408653</td>\n",
              "      <td>-0.057854</td>\n",
              "      <td>-0.101546</td>\n",
              "    </tr>\n",
              "    <tr>\n",
              "      <th>mta_tax</th>\n",
              "      <td>0.003000</td>\n",
              "      <td>-0.328465</td>\n",
              "      <td>-0.407927</td>\n",
              "      <td>-0.449854</td>\n",
              "      <td>1.000000</td>\n",
              "      <td>0.178325</td>\n",
              "      <td>-0.172391</td>\n",
              "      <td>0.066602</td>\n",
              "      <td>-0.365742</td>\n",
              "      <td>-0.138386</td>\n",
              "      <td>-0.738870</td>\n",
              "    </tr>\n",
              "    <tr>\n",
              "      <th>tip_amount</th>\n",
              "      <td>0.006240</td>\n",
              "      <td>0.056151</td>\n",
              "      <td>0.032393</td>\n",
              "      <td>-0.110472</td>\n",
              "      <td>0.178325</td>\n",
              "      <td>1.000000</td>\n",
              "      <td>0.015350</td>\n",
              "      <td>0.069465</td>\n",
              "      <td>0.206219</td>\n",
              "      <td>-0.403834</td>\n",
              "      <td>0.003037</td>\n",
              "    </tr>\n",
              "    <tr>\n",
              "      <th>tolls_amount</th>\n",
              "      <td>-0.004514</td>\n",
              "      <td>0.514307</td>\n",
              "      <td>0.439225</td>\n",
              "      <td>0.133736</td>\n",
              "      <td>-0.172391</td>\n",
              "      <td>0.015350</td>\n",
              "      <td>1.000000</td>\n",
              "      <td>-0.036513</td>\n",
              "      <td>0.506958</td>\n",
              "      <td>-0.062911</td>\n",
              "      <td>0.011420</td>\n",
              "    </tr>\n",
              "    <tr>\n",
              "      <th>improvement_surcharge</th>\n",
              "      <td>0.002634</td>\n",
              "      <td>-0.069587</td>\n",
              "      <td>-0.078871</td>\n",
              "      <td>-0.137127</td>\n",
              "      <td>0.066602</td>\n",
              "      <td>0.069465</td>\n",
              "      <td>-0.036513</td>\n",
              "      <td>1.000000</td>\n",
              "      <td>-0.064559</td>\n",
              "      <td>-0.187682</td>\n",
              "      <td>-0.324645</td>\n",
              "    </tr>\n",
              "    <tr>\n",
              "      <th>total_amount</th>\n",
              "      <td>-0.003582</td>\n",
              "      <td>0.834405</td>\n",
              "      <td>0.977012</td>\n",
              "      <td>0.408653</td>\n",
              "      <td>-0.365742</td>\n",
              "      <td>0.206219</td>\n",
              "      <td>0.506958</td>\n",
              "      <td>-0.064559</td>\n",
              "      <td>1.000000</td>\n",
              "      <td>-0.246033</td>\n",
              "      <td>0.074147</td>\n",
              "    </tr>\n",
              "    <tr>\n",
              "      <th>payment_type</th>\n",
              "      <td>0.015269</td>\n",
              "      <td>-0.085678</td>\n",
              "      <td>-0.150939</td>\n",
              "      <td>-0.057854</td>\n",
              "      <td>-0.138386</td>\n",
              "      <td>-0.403834</td>\n",
              "      <td>-0.062911</td>\n",
              "      <td>-0.187682</td>\n",
              "      <td>-0.246033</td>\n",
              "      <td>1.000000</td>\n",
              "      <td>0.034650</td>\n",
              "    </tr>\n",
              "    <tr>\n",
              "      <th>trip_type</th>\n",
              "      <td>-0.007092</td>\n",
              "      <td>0.025506</td>\n",
              "      <td>0.103174</td>\n",
              "      <td>-0.101546</td>\n",
              "      <td>-0.738870</td>\n",
              "      <td>0.003037</td>\n",
              "      <td>0.011420</td>\n",
              "      <td>-0.324645</td>\n",
              "      <td>0.074147</td>\n",
              "      <td>0.034650</td>\n",
              "      <td>1.000000</td>\n",
              "    </tr>\n",
              "  </tbody>\n",
              "</table>\n",
              "</div>"
            ],
            "text/plain": [
              "                       passenger_count  trip_distance  ...  payment_type  trip_type\n",
              "passenger_count               1.000000       0.009466  ...      0.015269  -0.007092\n",
              "trip_distance                 0.009466       1.000000  ...     -0.085678   0.025506\n",
              "fare_amount                  -0.006714       0.835261  ...     -0.150939   0.103174\n",
              "extra                        -0.008160       0.276670  ...     -0.057854  -0.101546\n",
              "mta_tax                       0.003000      -0.328465  ...     -0.138386  -0.738870\n",
              "tip_amount                    0.006240       0.056151  ...     -0.403834   0.003037\n",
              "tolls_amount                 -0.004514       0.514307  ...     -0.062911   0.011420\n",
              "improvement_surcharge         0.002634      -0.069587  ...     -0.187682  -0.324645\n",
              "total_amount                 -0.003582       0.834405  ...     -0.246033   0.074147\n",
              "payment_type                  0.015269      -0.085678  ...      1.000000   0.034650\n",
              "trip_type                    -0.007092       0.025506  ...      0.034650   1.000000\n",
              "\n",
              "[11 rows x 11 columns]"
            ]
          },
          "metadata": {
            "tags": []
          },
          "execution_count": 131
        }
      ]
    },
    {
      "cell_type": "markdown",
      "metadata": {
        "id": "qehseyuBp1YX"
      },
      "source": [
        ""
      ]
    },
    {
      "cell_type": "markdown",
      "metadata": {
        "id": "Pkej-JwTp4pX"
      },
      "source": [
        "total_amount имеет наибольшую корреляция со столбцами: trip_distance (расстояние поездки) и fare_amount (тип тарифа) "
      ]
    },
    {
      "cell_type": "code",
      "metadata": {
        "colab": {
          "base_uri": "https://localhost:8080/",
          "height": 724
        },
        "id": "HCX_34sps43X",
        "outputId": "44978031-737c-4a8b-adf9-188125c918d1"
      },
      "source": [
        "plt.figure(figsize=(10,10))\n",
        "sns.heatmap(table.corr())"
      ],
      "execution_count": null,
      "outputs": [
        {
          "output_type": "execute_result",
          "data": {
            "text/plain": [
              "<matplotlib.axes._subplots.AxesSubplot at 0x7fb3c2e3b9d0>"
            ]
          },
          "metadata": {
            "tags": []
          },
          "execution_count": 145
        },
        {
          "output_type": "display_data",
          "data": {
            "image/png": "[encoded data removed]",
            "text/plain": [
              "<Figure size 720x720 with 2 Axes>"
            ]
          },
          "metadata": {
            "tags": [],
            "needs_background": "light"
          }
        }
      ]
    },
    {
      "cell_type": "markdown",
      "metadata": {
        "id": "f0IzxK22sG2S"
      },
      "source": [
        "## Модель"
      ]
    },
    {
      "cell_type": "code",
      "metadata": {
        "colab": {
          "base_uri": "https://localhost:8080/",
          "height": 419
        },
        "id": "nDB7lwbI3ETz",
        "outputId": "f676ddf9-17c0-4f57-c755-63166e520698"
      },
      "source": [
        "table"
      ],
      "execution_count": null,
      "outputs": [
        {
          "output_type": "execute_result",
          "data": {
            "text/html": [
              "<div>\n",
              "<style scoped>\n",
              "    .dataframe tbody tr th:only-of-type {\n",
              "        vertical-align: middle;\n",
              "    }\n",
              "\n",
              "    .dataframe tbody tr th {\n",
              "        vertical-align: top;\n",
              "    }\n",
              "\n",
              "    .dataframe thead th {\n",
              "        text-align: right;\n",
              "    }\n",
              "</style>\n",
              "<table border=\"1\" class=\"dataframe\">\n",
              "  <thead>\n",
              "    <tr style=\"text-align: right;\">\n",
              "      <th></th>\n",
              "      <th>passenger_count</th>\n",
              "      <th>trip_distance</th>\n",
              "      <th>fare_amount</th>\n",
              "      <th>extra</th>\n",
              "      <th>mta_tax</th>\n",
              "      <th>tip_amount</th>\n",
              "      <th>tolls_amount</th>\n",
              "      <th>improvement_surcharge</th>\n",
              "      <th>total_amount</th>\n",
              "      <th>payment_type</th>\n",
              "      <th>trip_type</th>\n",
              "    </tr>\n",
              "  </thead>\n",
              "  <tbody>\n",
              "    <tr>\n",
              "      <th>0</th>\n",
              "      <td>5.0</td>\n",
              "      <td>0.00</td>\n",
              "      <td>3.50</td>\n",
              "      <td>0.50</td>\n",
              "      <td>0.5</td>\n",
              "      <td>0.01</td>\n",
              "      <td>0.0</td>\n",
              "      <td>0.3</td>\n",
              "      <td>4.81</td>\n",
              "      <td>1.0</td>\n",
              "      <td>1.0</td>\n",
              "    </tr>\n",
              "    <tr>\n",
              "      <th>1</th>\n",
              "      <td>2.0</td>\n",
              "      <td>1.28</td>\n",
              "      <td>20.00</td>\n",
              "      <td>0.00</td>\n",
              "      <td>0.0</td>\n",
              "      <td>4.06</td>\n",
              "      <td>0.0</td>\n",
              "      <td>0.3</td>\n",
              "      <td>24.36</td>\n",
              "      <td>1.0</td>\n",
              "      <td>2.0</td>\n",
              "    </tr>\n",
              "    <tr>\n",
              "      <th>2</th>\n",
              "      <td>1.0</td>\n",
              "      <td>2.47</td>\n",
              "      <td>10.50</td>\n",
              "      <td>0.50</td>\n",
              "      <td>0.5</td>\n",
              "      <td>3.54</td>\n",
              "      <td>0.0</td>\n",
              "      <td>0.3</td>\n",
              "      <td>15.34</td>\n",
              "      <td>1.0</td>\n",
              "      <td>1.0</td>\n",
              "    </tr>\n",
              "    <tr>\n",
              "      <th>3</th>\n",
              "      <td>2.0</td>\n",
              "      <td>6.30</td>\n",
              "      <td>21.00</td>\n",
              "      <td>3.25</td>\n",
              "      <td>0.5</td>\n",
              "      <td>0.00</td>\n",
              "      <td>0.0</td>\n",
              "      <td>0.3</td>\n",
              "      <td>25.05</td>\n",
              "      <td>2.0</td>\n",
              "      <td>1.0</td>\n",
              "    </tr>\n",
              "    <tr>\n",
              "      <th>4</th>\n",
              "      <td>1.0</td>\n",
              "      <td>2.30</td>\n",
              "      <td>10.00</td>\n",
              "      <td>0.50</td>\n",
              "      <td>0.5</td>\n",
              "      <td>0.00</td>\n",
              "      <td>0.0</td>\n",
              "      <td>0.3</td>\n",
              "      <td>11.30</td>\n",
              "      <td>1.0</td>\n",
              "      <td>1.0</td>\n",
              "    </tr>\n",
              "    <tr>\n",
              "      <th>...</th>\n",
              "      <td>...</td>\n",
              "      <td>...</td>\n",
              "      <td>...</td>\n",
              "      <td>...</td>\n",
              "      <td>...</td>\n",
              "      <td>...</td>\n",
              "      <td>...</td>\n",
              "      <td>...</td>\n",
              "      <td>...</td>\n",
              "      <td>...</td>\n",
              "      <td>...</td>\n",
              "    </tr>\n",
              "    <tr>\n",
              "      <th>447765</th>\n",
              "      <td>NaN</td>\n",
              "      <td>4.58</td>\n",
              "      <td>23.21</td>\n",
              "      <td>2.75</td>\n",
              "      <td>0.0</td>\n",
              "      <td>0.00</td>\n",
              "      <td>0.0</td>\n",
              "      <td>0.3</td>\n",
              "      <td>26.26</td>\n",
              "      <td>NaN</td>\n",
              "      <td>NaN</td>\n",
              "    </tr>\n",
              "    <tr>\n",
              "      <th>447766</th>\n",
              "      <td>NaN</td>\n",
              "      <td>6.55</td>\n",
              "      <td>27.27</td>\n",
              "      <td>2.75</td>\n",
              "      <td>0.0</td>\n",
              "      <td>0.00</td>\n",
              "      <td>0.0</td>\n",
              "      <td>0.3</td>\n",
              "      <td>30.32</td>\n",
              "      <td>NaN</td>\n",
              "      <td>NaN</td>\n",
              "    </tr>\n",
              "    <tr>\n",
              "      <th>447767</th>\n",
              "      <td>NaN</td>\n",
              "      <td>3.34</td>\n",
              "      <td>25.95</td>\n",
              "      <td>2.75</td>\n",
              "      <td>0.0</td>\n",
              "      <td>0.00</td>\n",
              "      <td>0.0</td>\n",
              "      <td>0.3</td>\n",
              "      <td>29.00</td>\n",
              "      <td>NaN</td>\n",
              "      <td>NaN</td>\n",
              "    </tr>\n",
              "    <tr>\n",
              "      <th>447768</th>\n",
              "      <td>NaN</td>\n",
              "      <td>8.92</td>\n",
              "      <td>30.39</td>\n",
              "      <td>2.75</td>\n",
              "      <td>0.0</td>\n",
              "      <td>0.00</td>\n",
              "      <td>0.0</td>\n",
              "      <td>0.3</td>\n",
              "      <td>33.44</td>\n",
              "      <td>NaN</td>\n",
              "      <td>NaN</td>\n",
              "    </tr>\n",
              "    <tr>\n",
              "      <th>447769</th>\n",
              "      <td>NaN</td>\n",
              "      <td>13.51</td>\n",
              "      <td>42.20</td>\n",
              "      <td>2.75</td>\n",
              "      <td>0.0</td>\n",
              "      <td>0.00</td>\n",
              "      <td>0.0</td>\n",
              "      <td>0.3</td>\n",
              "      <td>45.25</td>\n",
              "      <td>NaN</td>\n",
              "      <td>NaN</td>\n",
              "    </tr>\n",
              "  </tbody>\n",
              "</table>\n",
              "<p>447770 rows × 11 columns</p>\n",
              "</div>"
            ],
            "text/plain": [
              "        passenger_count  trip_distance  ...  payment_type  trip_type\n",
              "0                   5.0           0.00  ...           1.0        1.0\n",
              "1                   2.0           1.28  ...           1.0        2.0\n",
              "2                   1.0           2.47  ...           1.0        1.0\n",
              "3                   2.0           6.30  ...           2.0        1.0\n",
              "4                   1.0           2.30  ...           1.0        1.0\n",
              "...                 ...            ...  ...           ...        ...\n",
              "447765              NaN           4.58  ...           NaN        NaN\n",
              "447766              NaN           6.55  ...           NaN        NaN\n",
              "447767              NaN           3.34  ...           NaN        NaN\n",
              "447768              NaN           8.92  ...           NaN        NaN\n",
              "447769              NaN          13.51  ...           NaN        NaN\n",
              "\n",
              "[447770 rows x 11 columns]"
            ]
          },
          "metadata": {
            "tags": []
          },
          "execution_count": 180
        }
      ]
    },
    {
      "cell_type": "code",
      "metadata": {
        "colab": {
          "base_uri": "https://localhost:8080/",
          "height": 286
        },
        "id": "BkSJUNimsLeD",
        "outputId": "bd9eb606-fdac-4950-a635-beff14ffd749"
      },
      "source": [
        "# sns.pairplot(df)\n",
        "X = table[['total_amount']].values\n",
        "y = table[['trip_distance']].values\n",
        "slr = lm.LinearRegression()\n",
        "slr.fit(X, y)\n",
        "plt.scatter(X, y)\n",
        "plt.plot(X, slr.predict(X), color='red', linewidth=2)"
      ],
      "execution_count": null,
      "outputs": [
        {
          "output_type": "execute_result",
          "data": {
            "text/plain": [
              "[<matplotlib.lines.Line2D at 0x7fb3c0c59c10>]"
            ]
          },
          "metadata": {
            "tags": []
          },
          "execution_count": 181
        },
        {
          "output_type": "display_data",
          "data": {
            "image/png": "[encoded data removed]",
            "text/plain": [
              "<Figure size 432x288 with 1 Axes>"
            ]
          },
          "metadata": {
            "tags": [],
            "needs_background": "light"
          }
        }
      ]
    },
    {
      "cell_type": "code",
      "metadata": {
        "colab": {
          "base_uri": "https://localhost:8080/",
          "height": 286
        },
        "id": "y0FsChLq6o0G",
        "outputId": "3275c2c5-fbdb-4c5b-eb27-bbcbefceb9a2"
      },
      "source": [
        "X = table[['total_amount']].values\n",
        "y = table[['fare_amount']].values\n",
        "slr = lm.LinearRegression()\n",
        "slr.fit(X, y)\n",
        "plt.scatter(X, y)\n",
        "plt.plot(X, slr.predict(X), color='red', linewidth=2)"
      ],
      "execution_count": null,
      "outputs": [
        {
          "output_type": "execute_result",
          "data": {
            "text/plain": [
              "[<matplotlib.lines.Line2D at 0x7fb3c0c6af10>]"
            ]
          },
          "metadata": {
            "tags": []
          },
          "execution_count": 182
        },
        {
          "output_type": "display_data",
          "data": {
            "image/png": "[encoded data removed]",
            "text/plain": [
              "<Figure size 432x288 with 1 Axes>"
            ]
          },
          "metadata": {
            "tags": [],
            "needs_background": "light"
          }
        }
      ]
    },
    {
      "cell_type": "markdown",
      "metadata": {
        "id": "-tRet3-y6Khr"
      },
      "source": [
        "Между расстоянием поездки и ценой прямая зависимость. Но по графику линейной регресси мы видим, что и между ценой поездки и тарифом также есть отклонения - вероятно они и указывают на скидки и акции."
      ]
    }
  ]
}